{
 "cells": [
  {
   "cell_type": "code",
   "execution_count": 76,
   "id": "92b5655e",
   "metadata": {
    "id": "92b5655e"
   },
   "outputs": [],
   "source": [
    "import yfinance as yf\n",
    "import pandas as pd\n",
    "import numpy as np"
   ]
  },
  {
   "cell_type": "code",
   "execution_count": 155,
   "id": "faf446be",
   "metadata": {},
   "outputs": [
    {
     "name": "stderr",
     "output_type": "stream",
     "text": [
      "[*********************100%***********************]  1 of 1 completed"
     ]
    },
    {
     "name": "stdout",
     "output_type": "stream",
     "text": [
      "                  Open        High         Low       Close   Adj Close  \\\n",
      "Date                                                                     \n",
      "2024-10-30  426.049988  433.299988  421.850006  427.000000  427.000000   \n",
      "2024-10-31  430.500000  444.799988  420.799988  440.049988  440.049988   \n",
      "2024-11-01  444.000000  448.450012  442.100006  445.450012  445.450012   \n",
      "2024-11-04  446.250000  446.799988  426.049988  429.049988  429.049988   \n",
      "2024-11-05  429.000000  434.850006  425.850006  434.100006  434.100006   \n",
      "\n",
      "              Volume  \n",
      "Date                  \n",
      "2024-10-30   9699786  \n",
      "2024-10-31  29693039  \n",
      "2024-11-01   4387971  \n",
      "2024-11-04  13264369  \n",
      "2024-11-05   8889823  \n"
     ]
    },
    {
     "name": "stderr",
     "output_type": "stream",
     "text": [
      "\n"
     ]
    }
   ],
   "source": [
    "import yfinance as yf\n",
    "from datetime import datetime\n",
    "\n",
    "# Define the ticker symbol\n",
    "ticker = 'TATAPOWER.NS'\n",
    "\n",
    "# Calculate start date for approximately 5000 rows (20 years back from today)\n",
    "start_date = \"2004-01-01\"\n",
    "end_date = datetime.now().strftime(\"%Y-%m-%d\")  # Set the end date to today's date\n",
    "\n",
    "# Download historical data from the ticker\n",
    "data = yf.download(ticker, start=start_date, end=end_date)\n",
    "\n",
    "# Display the first few rows\n",
    "print(data.tail())\n",
    "\n",
    "# Save the dataset to a CSV file\n",
    "data.to_csv(f'{ticker}_historical_data.csv')\n"
   ]
  },
  {
   "cell_type": "code",
   "execution_count": 156,
   "id": "n0FcP5wRqp6I",
   "metadata": {
    "colab": {
     "base_uri": "https://localhost:8080/",
     "height": 237
    },
    "id": "n0FcP5wRqp6I",
    "outputId": "2f4be16c-d998-4355-9695-271af0d8a8f7"
   },
   "outputs": [
    {
     "data": {
      "text/html": [
       "<div>\n",
       "<style scoped>\n",
       "    .dataframe tbody tr th:only-of-type {\n",
       "        vertical-align: middle;\n",
       "    }\n",
       "\n",
       "    .dataframe tbody tr th {\n",
       "        vertical-align: top;\n",
       "    }\n",
       "\n",
       "    .dataframe thead th {\n",
       "        text-align: right;\n",
       "    }\n",
       "</style>\n",
       "<table border=\"1\" class=\"dataframe\">\n",
       "  <thead>\n",
       "    <tr style=\"text-align: right;\">\n",
       "      <th></th>\n",
       "      <th>Open</th>\n",
       "      <th>High</th>\n",
       "      <th>Low</th>\n",
       "      <th>Close</th>\n",
       "      <th>Adj Close</th>\n",
       "      <th>Volume</th>\n",
       "    </tr>\n",
       "    <tr>\n",
       "      <th>Date</th>\n",
       "      <th></th>\n",
       "      <th></th>\n",
       "      <th></th>\n",
       "      <th></th>\n",
       "      <th></th>\n",
       "      <th></th>\n",
       "    </tr>\n",
       "  </thead>\n",
       "  <tbody>\n",
       "    <tr>\n",
       "      <th>2004-01-01</th>\n",
       "      <td>30.880548</td>\n",
       "      <td>31.170053</td>\n",
       "      <td>30.359440</td>\n",
       "      <td>31.088026</td>\n",
       "      <td>21.882357</td>\n",
       "      <td>11262763</td>\n",
       "    </tr>\n",
       "    <tr>\n",
       "      <th>2004-01-02</th>\n",
       "      <td>31.247255</td>\n",
       "      <td>31.942068</td>\n",
       "      <td>31.218306</td>\n",
       "      <td>31.744240</td>\n",
       "      <td>22.344255</td>\n",
       "      <td>13283836</td>\n",
       "    </tr>\n",
       "    <tr>\n",
       "      <th>2004-01-05</th>\n",
       "      <td>31.860041</td>\n",
       "      <td>32.738209</td>\n",
       "      <td>31.546412</td>\n",
       "      <td>32.448704</td>\n",
       "      <td>22.840118</td>\n",
       "      <td>17074763</td>\n",
       "    </tr>\n",
       "    <tr>\n",
       "      <th>2004-01-06</th>\n",
       "      <td>32.907085</td>\n",
       "      <td>34.972221</td>\n",
       "      <td>32.231571</td>\n",
       "      <td>34.012032</td>\n",
       "      <td>23.940519</td>\n",
       "      <td>48400703</td>\n",
       "    </tr>\n",
       "    <tr>\n",
       "      <th>2004-01-07</th>\n",
       "      <td>34.065105</td>\n",
       "      <td>35.995140</td>\n",
       "      <td>33.688747</td>\n",
       "      <td>35.768360</td>\n",
       "      <td>25.176769</td>\n",
       "      <td>45343266</td>\n",
       "    </tr>\n",
       "  </tbody>\n",
       "</table>\n",
       "</div>"
      ],
      "text/plain": [
       "                 Open       High        Low      Close  Adj Close    Volume\n",
       "Date                                                                       \n",
       "2004-01-01  30.880548  31.170053  30.359440  31.088026  21.882357  11262763\n",
       "2004-01-02  31.247255  31.942068  31.218306  31.744240  22.344255  13283836\n",
       "2004-01-05  31.860041  32.738209  31.546412  32.448704  22.840118  17074763\n",
       "2004-01-06  32.907085  34.972221  32.231571  34.012032  23.940519  48400703\n",
       "2004-01-07  34.065105  35.995140  33.688747  35.768360  25.176769  45343266"
      ]
     },
     "execution_count": 156,
     "metadata": {},
     "output_type": "execute_result"
    }
   ],
   "source": [
    "data.head()"
   ]
  },
  {
   "cell_type": "raw",
   "id": "094ac45a",
   "metadata": {
    "id": "094ac45a"
   },
   "source": [
    "above we find the dataset from yahoofinance.com"
   ]
  },
  {
   "cell_type": "markdown",
   "id": "96a47dfc",
   "metadata": {
    "id": "96a47dfc"
   },
   "source": [
    "# EDA"
   ]
  },
  {
   "cell_type": "markdown",
   "id": "cff88d1a",
   "metadata": {
    "id": "cff88d1a"
   },
   "source": [
    "Lets start on EDA Process"
   ]
  },
  {
   "cell_type": "code",
   "execution_count": 79,
   "id": "097b3caf",
   "metadata": {
    "id": "097b3caf"
   },
   "outputs": [],
   "source": [
    "import matplotlib.pyplot as plt\n",
    "import seaborn as sns"
   ]
  },
  {
   "cell_type": "code",
   "execution_count": 157,
   "id": "ff4f0dad",
   "metadata": {
    "colab": {
     "base_uri": "https://localhost:8080/",
     "height": 272
    },
    "id": "ff4f0dad",
    "outputId": "4affcbf3-0cea-4822-d549-091382d37c28"
   },
   "outputs": [
    {
     "data": {
      "text/plain": [
       "Open         0\n",
       "High         0\n",
       "Low          0\n",
       "Close        0\n",
       "Adj Close    0\n",
       "Volume       0\n",
       "dtype: int64"
      ]
     },
     "execution_count": 157,
     "metadata": {},
     "output_type": "execute_result"
    }
   ],
   "source": [
    "data.isnull().sum()  ## There is no Null Value"
   ]
  },
  {
   "cell_type": "code",
   "execution_count": 158,
   "id": "f1c2bbce",
   "metadata": {
    "colab": {
     "base_uri": "https://localhost:8080/"
    },
    "id": "f1c2bbce",
    "outputId": "c01a8679-538e-4892-a248-306b53c0cc91"
   },
   "outputs": [
    {
     "data": {
      "text/plain": [
       "(5157, 6)"
      ]
     },
     "execution_count": 158,
     "metadata": {},
     "output_type": "execute_result"
    }
   ],
   "source": [
    "data.shape"
   ]
  },
  {
   "cell_type": "code",
   "execution_count": 159,
   "id": "YqnWVNMKpEcp",
   "metadata": {
    "colab": {
     "base_uri": "https://localhost:8080/"
    },
    "id": "YqnWVNMKpEcp",
    "outputId": "e42bd8ef-f1fa-4d9e-dc66-1922a1ae71d7"
   },
   "outputs": [
    {
     "data": {
      "text/plain": [
       "Index(['Open', 'High', 'Low', 'Close', 'Adj Close', 'Volume'], dtype='object')"
      ]
     },
     "execution_count": 159,
     "metadata": {},
     "output_type": "execute_result"
    }
   ],
   "source": [
    "data.columns"
   ]
  },
  {
   "cell_type": "code",
   "execution_count": 160,
   "id": "415f8295-497e-4248-a921-8c3391850c6c",
   "metadata": {},
   "outputs": [
    {
     "name": "stderr",
     "output_type": "stream",
     "text": [
      "20:31:54 - cmdstanpy - INFO - Chain [1] start processing\n",
      "20:31:56 - cmdstanpy - INFO - Chain [1] done processing\n"
     ]
    },
    {
     "name": "stdout",
     "output_type": "stream",
     "text": [
      "Epoch 1/10\n",
      "\u001b[1m128/128\u001b[0m \u001b[32m━━━━━━━━━━━━━━━━━━━━\u001b[0m\u001b[37m\u001b[0m \u001b[1m10s\u001b[0m 43ms/step - loss: 0.0311\n",
      "Epoch 2/10\n",
      "\u001b[1m128/128\u001b[0m \u001b[32m━━━━━━━━━━━━━━━━━━━━\u001b[0m\u001b[37m\u001b[0m \u001b[1m6s\u001b[0m 47ms/step - loss: 0.0011\n",
      "Epoch 3/10\n",
      "\u001b[1m128/128\u001b[0m \u001b[32m━━━━━━━━━━━━━━━━━━━━\u001b[0m\u001b[37m\u001b[0m \u001b[1m6s\u001b[0m 49ms/step - loss: 0.0010\n",
      "Epoch 4/10\n",
      "\u001b[1m128/128\u001b[0m \u001b[32m━━━━━━━━━━━━━━━━━━━━\u001b[0m\u001b[37m\u001b[0m \u001b[1m10s\u001b[0m 46ms/step - loss: 8.6570e-04\n",
      "Epoch 5/10\n",
      "\u001b[1m128/128\u001b[0m \u001b[32m━━━━━━━━━━━━━━━━━━━━\u001b[0m\u001b[37m\u001b[0m \u001b[1m6s\u001b[0m 48ms/step - loss: 7.7816e-04\n",
      "Epoch 6/10\n",
      "\u001b[1m128/128\u001b[0m \u001b[32m━━━━━━━━━━━━━━━━━━━━\u001b[0m\u001b[37m\u001b[0m \u001b[1m6s\u001b[0m 48ms/step - loss: 7.5688e-04\n",
      "Epoch 7/10\n",
      "\u001b[1m128/128\u001b[0m \u001b[32m━━━━━━━━━━━━━━━━━━━━\u001b[0m\u001b[37m\u001b[0m \u001b[1m6s\u001b[0m 50ms/step - loss: 7.7385e-04\n",
      "Epoch 8/10\n",
      "\u001b[1m128/128\u001b[0m \u001b[32m━━━━━━━━━━━━━━━━━━━━\u001b[0m\u001b[37m\u001b[0m \u001b[1m10s\u001b[0m 49ms/step - loss: 7.0748e-04\n",
      "Epoch 9/10\n",
      "\u001b[1m128/128\u001b[0m \u001b[32m━━━━━━━━━━━━━━━━━━━━\u001b[0m\u001b[37m\u001b[0m \u001b[1m6s\u001b[0m 49ms/step - loss: 5.7144e-04\n",
      "Epoch 10/10\n",
      "\u001b[1m128/128\u001b[0m \u001b[32m━━━━━━━━━━━━━━━━━━━━\u001b[0m\u001b[37m\u001b[0m \u001b[1m6s\u001b[0m 49ms/step - loss: 6.1497e-04\n",
      "\u001b[1m31/31\u001b[0m \u001b[32m━━━━━━━━━━━━━━━━━━━━\u001b[0m\u001b[37m\u001b[0m \u001b[1m2s\u001b[0m 63ms/step\n",
      "\n",
      "Model Performance Comparison:\n",
      "                                       MAE           MSE        RMSE\n",
      "Linear Regression               150.833527  34082.263909  184.613824\n",
      "Prophet                         203.874251  56498.887640  237.694947\n",
      "LSTM                             22.474563   1039.044368   32.234211\n",
      "Random Forest Regressor         173.292383  42558.478872  206.297065\n",
      "Decision Tree Regressor         173.197189  42521.535439  206.207506\n",
      "Support Vector Regressor (SVR)  157.375254  36595.440018  191.299347\n",
      "XGBoost Regressor               175.126946  43271.415028  208.017824\n"
     ]
    }
   ],
   "source": [
    "import pandas as pd\n",
    "import numpy as np\n",
    "from sklearn.linear_model import LinearRegression\n",
    "from sklearn.ensemble import RandomForestRegressor\n",
    "from sklearn.tree import DecisionTreeRegressor\n",
    "from sklearn.svm import SVR\n",
    "from sklearn.metrics import mean_absolute_error, mean_squared_error\n",
    "from prophet import Prophet\n",
    "from xgboost import XGBRegressor\n",
    "import tensorflow as tf\n",
    "from tensorflow.keras.models import Sequential\n",
    "from tensorflow.keras.layers import LSTM, Dense\n",
    "from math import sqrt\n",
    "from sklearn.preprocessing import MinMaxScaler\n",
    "\n",
    "# Load and prepare the data\n",
    "data_new = data.sort_index()\n",
    "data_new = data_new[['Close']]\n",
    "train_size = int(len(data_new) * 0.8)\n",
    "train_data, test_data = data_new[:train_size], data_new[train_size:]\n",
    "\n",
    "# Function to calculate and store metrics\n",
    "def evaluate_metrics(y_true, y_pred, model_name, results):\n",
    "    mae = mean_absolute_error(y_true, y_pred)\n",
    "    mse = mean_squared_error(y_true, y_pred)\n",
    "    rmse = sqrt(mse)\n",
    "    results[model_name] = {'MAE': mae, 'MSE': mse, 'RMSE': rmse}\n",
    "\n",
    "# Dictionary to store results\n",
    "results = {}\n",
    "\n",
    "### Model 1: Linear Regression ###\n",
    "X_train = np.arange(len(train_data)).reshape(-1, 1)\n",
    "y_train = train_data['Close']\n",
    "X_test = np.arange(len(train_data), len(train_data) + len(test_data)).reshape(-1, 1)\n",
    "y_test = test_data['Close']\n",
    "\n",
    "linear_model = LinearRegression()\n",
    "linear_model.fit(X_train, y_train)\n",
    "y_pred_linear = linear_model.predict(X_test)\n",
    "evaluate_metrics(y_test, y_pred_linear, \"Linear Regression\", results)\n",
    "\n",
    "### Model 2: Prophet ###\n",
    "prophet_data = data_new.reset_index().rename(columns={'Date': 'ds', 'Close': 'y'})\n",
    "prophet_train = prophet_data.iloc[:train_size]\n",
    "\n",
    "prophet_model = Prophet()\n",
    "prophet_model.fit(prophet_train)\n",
    "\n",
    "future = prophet_model.make_future_dataframe(periods=len(test_data))\n",
    "forecast = prophet_model.predict(future)\n",
    "y_pred_prophet = forecast['yhat'].iloc[-len(test_data):].values\n",
    "evaluate_metrics(y_test, y_pred_prophet, \"Prophet\", results)\n",
    "\n",
    "### Model 3: LSTM ###\n",
    "scaler = MinMaxScaler()\n",
    "train_scaled = scaler.fit_transform(train_data)\n",
    "test_scaled = scaler.transform(test_data)\n",
    "\n",
    "def create_lstm_data(data, time_steps=1):\n",
    "    X, y = [], []\n",
    "    for i in range(len(data) - time_steps):\n",
    "        X.append(data[i:(i + time_steps), 0])\n",
    "        y.append(data[i + time_steps, 0])\n",
    "    return np.array(X), np.array(y)\n",
    "\n",
    "time_steps = 60\n",
    "X_train_lstm, y_train_lstm = create_lstm_data(train_scaled, time_steps)\n",
    "X_test_lstm, y_test_lstm = create_lstm_data(test_scaled, time_steps)\n",
    "\n",
    "X_train_lstm = X_train_lstm.reshape((X_train_lstm.shape[0], X_train_lstm.shape[1], 1))\n",
    "X_test_lstm = X_test_lstm.reshape((X_test_lstm.shape[0], X_test_lstm.shape[1], 1))\n",
    "\n",
    "lstm_model = Sequential([\n",
    "    LSTM(50, return_sequences=True, input_shape=(X_train_lstm.shape[1], 1)),\n",
    "    LSTM(50, return_sequences=False),\n",
    "    Dense(25),\n",
    "    Dense(1)\n",
    "])\n",
    "\n",
    "lstm_model.compile(optimizer='adam', loss='mean_squared_error')\n",
    "lstm_model.fit(X_train_lstm, y_train_lstm, epochs=10, batch_size=32)\n",
    "\n",
    "y_pred_lstm = lstm_model.predict(X_test_lstm)\n",
    "y_pred_lstm = scaler.inverse_transform(y_pred_lstm)\n",
    "evaluate_metrics(y_test[time_steps:], y_pred_lstm, \"LSTM\", results)\n",
    "\n",
    "### Model 4: Random Forest Regressor ###\n",
    "rf_model = RandomForestRegressor(n_estimators=100, random_state=42)\n",
    "rf_model.fit(X_train, y_train)\n",
    "y_pred_rf = rf_model.predict(X_test)\n",
    "evaluate_metrics(y_test, y_pred_rf, \"Random Forest Regressor\", results)\n",
    "\n",
    "### Model 5: Decision Tree Regressor ###\n",
    "dt_model = DecisionTreeRegressor(random_state=42)\n",
    "dt_model.fit(X_train, y_train)\n",
    "y_pred_dt = dt_model.predict(X_test)\n",
    "evaluate_metrics(y_test, y_pred_dt, \"Decision Tree Regressor\", results)\n",
    "\n",
    "### Model 6: Support Vector Regressor (SVR) ###\n",
    "svr_model = SVR(kernel='rbf', C=100, gamma=0.1, epsilon=0.1)\n",
    "svr_model.fit(X_train, y_train)\n",
    "y_pred_svr = svr_model.predict(X_test)\n",
    "evaluate_metrics(y_test, y_pred_svr, \"Support Vector Regressor (SVR)\", results)\n",
    "\n",
    "### Model 7: XGBoost Regressor ###\n",
    "xgb_model = XGBRegressor(objective='reg:squarederror', n_estimators=100, random_state=42)\n",
    "xgb_model.fit(X_train, y_train)\n",
    "y_pred_xgb = xgb_model.predict(X_test)\n",
    "evaluate_metrics(y_test, y_pred_xgb, \"XGBoost Regressor\", results)\n",
    "\n",
    "# Display results as a DataFrame\n",
    "results_df = pd.DataFrame(results).T\n",
    "print(\"\\nModel Performance Comparison:\")\n",
    "print(results_df)\n"
   ]
  },
  {
   "cell_type": "code",
   "execution_count": 161,
   "id": "72ff32be-0ca6-4a0c-bf5c-58e850180a6c",
   "metadata": {},
   "outputs": [
    {
     "name": "stdout",
     "output_type": "stream",
     "text": [
      "Epoch 1/10\n",
      "\u001b[1m128/128\u001b[0m \u001b[32m━━━━━━━━━━━━━━━━━━━━\u001b[0m\u001b[37m\u001b[0m \u001b[1m11s\u001b[0m 51ms/step - loss: 0.0369\n",
      "Epoch 2/10\n",
      "\u001b[1m128/128\u001b[0m \u001b[32m━━━━━━━━━━━━━━━━━━━━\u001b[0m\u001b[37m\u001b[0m \u001b[1m6s\u001b[0m 48ms/step - loss: 0.0011\n",
      "Epoch 3/10\n",
      "\u001b[1m128/128\u001b[0m \u001b[32m━━━━━━━━━━━━━━━━━━━━\u001b[0m\u001b[37m\u001b[0m \u001b[1m6s\u001b[0m 49ms/step - loss: 9.1175e-04\n",
      "Epoch 4/10\n",
      "\u001b[1m128/128\u001b[0m \u001b[32m━━━━━━━━━━━━━━━━━━━━\u001b[0m\u001b[37m\u001b[0m \u001b[1m7s\u001b[0m 51ms/step - loss: 8.2546e-04\n",
      "Epoch 5/10\n",
      "\u001b[1m128/128\u001b[0m \u001b[32m━━━━━━━━━━━━━━━━━━━━\u001b[0m\u001b[37m\u001b[0m \u001b[1m6s\u001b[0m 50ms/step - loss: 7.0505e-04\n",
      "Epoch 6/10\n",
      "\u001b[1m128/128\u001b[0m \u001b[32m━━━━━━━━━━━━━━━━━━━━\u001b[0m\u001b[37m\u001b[0m \u001b[1m6s\u001b[0m 47ms/step - loss: 0.0015\n",
      "Epoch 7/10\n",
      "\u001b[1m128/128\u001b[0m \u001b[32m━━━━━━━━━━━━━━━━━━━━\u001b[0m\u001b[37m\u001b[0m \u001b[1m6s\u001b[0m 51ms/step - loss: 5.2404e-04\n",
      "Epoch 8/10\n",
      "\u001b[1m128/128\u001b[0m \u001b[32m━━━━━━━━━━━━━━━━━━━━\u001b[0m\u001b[37m\u001b[0m \u001b[1m7s\u001b[0m 51ms/step - loss: 4.6927e-04\n",
      "Epoch 9/10\n",
      "\u001b[1m128/128\u001b[0m \u001b[32m━━━━━━━━━━━━━━━━━━━━\u001b[0m\u001b[37m\u001b[0m \u001b[1m6s\u001b[0m 50ms/step - loss: 5.0245e-04\n",
      "Epoch 10/10\n",
      "\u001b[1m128/128\u001b[0m \u001b[32m━━━━━━━━━━━━━━━━━━━━\u001b[0m\u001b[37m\u001b[0m \u001b[1m7s\u001b[0m 51ms/step - loss: 4.5142e-04\n",
      "\u001b[1m31/31\u001b[0m \u001b[32m━━━━━━━━━━━━━━━━━━━━\u001b[0m\u001b[37m\u001b[0m \u001b[1m1s\u001b[0m 34ms/step\n",
      "LSTM model performance evaluation on test data:\n",
      "MAE: 24.08304138340577, MSE: 1384.2868970615598, RMSE: 37.206006196064095\n",
      "\u001b[1m1/1\u001b[0m \u001b[32m━━━━━━━━━━━━━━━━━━━━\u001b[0m\u001b[37m\u001b[0m \u001b[1m0s\u001b[0m 36ms/step\n",
      "\u001b[1m1/1\u001b[0m \u001b[32m━━━━━━━━━━━━━━━━━━━━\u001b[0m\u001b[37m\u001b[0m \u001b[1m0s\u001b[0m 36ms/step\n",
      "\u001b[1m1/1\u001b[0m \u001b[32m━━━━━━━━━━━━━━━━━━━━\u001b[0m\u001b[37m\u001b[0m \u001b[1m0s\u001b[0m 36ms/step\n",
      "\u001b[1m1/1\u001b[0m \u001b[32m━━━━━━━━━━━━━━━━━━━━\u001b[0m\u001b[37m\u001b[0m \u001b[1m0s\u001b[0m 39ms/step\n",
      "\u001b[1m1/1\u001b[0m \u001b[32m━━━━━━━━━━━━━━━━━━━━\u001b[0m\u001b[37m\u001b[0m \u001b[1m0s\u001b[0m 37ms/step\n",
      "\u001b[1m1/1\u001b[0m \u001b[32m━━━━━━━━━━━━━━━━━━━━\u001b[0m\u001b[37m\u001b[0m \u001b[1m0s\u001b[0m 37ms/step\n",
      "\u001b[1m1/1\u001b[0m \u001b[32m━━━━━━━━━━━━━━━━━━━━\u001b[0m\u001b[37m\u001b[0m \u001b[1m0s\u001b[0m 37ms/step\n",
      "\u001b[1m1/1\u001b[0m \u001b[32m━━━━━━━━━━━━━━━━━━━━\u001b[0m\u001b[37m\u001b[0m \u001b[1m0s\u001b[0m 37ms/step\n",
      "\u001b[1m1/1\u001b[0m \u001b[32m━━━━━━━━━━━━━━━━━━━━\u001b[0m\u001b[37m\u001b[0m \u001b[1m0s\u001b[0m 39ms/step\n",
      "\u001b[1m1/1\u001b[0m \u001b[32m━━━━━━━━━━━━━━━━━━━━\u001b[0m\u001b[37m\u001b[0m \u001b[1m0s\u001b[0m 43ms/step\n",
      "\u001b[1m1/1\u001b[0m \u001b[32m━━━━━━━━━━━━━━━━━━━━\u001b[0m\u001b[37m\u001b[0m \u001b[1m0s\u001b[0m 40ms/step\n",
      "\u001b[1m1/1\u001b[0m \u001b[32m━━━━━━━━━━━━━━━━━━━━\u001b[0m\u001b[37m\u001b[0m \u001b[1m0s\u001b[0m 35ms/step\n",
      "\u001b[1m1/1\u001b[0m \u001b[32m━━━━━━━━━━━━━━━━━━━━\u001b[0m\u001b[37m\u001b[0m \u001b[1m0s\u001b[0m 40ms/step\n",
      "\u001b[1m1/1\u001b[0m \u001b[32m━━━━━━━━━━━━━━━━━━━━\u001b[0m\u001b[37m\u001b[0m \u001b[1m0s\u001b[0m 36ms/step\n",
      "\u001b[1m1/1\u001b[0m \u001b[32m━━━━━━━━━━━━━━━━━━━━\u001b[0m\u001b[37m\u001b[0m \u001b[1m0s\u001b[0m 38ms/step\n",
      "\u001b[1m1/1\u001b[0m \u001b[32m━━━━━━━━━━━━━━━━━━━━\u001b[0m\u001b[37m\u001b[0m \u001b[1m0s\u001b[0m 38ms/step\n",
      "\u001b[1m1/1\u001b[0m \u001b[32m━━━━━━━━━━━━━━━━━━━━\u001b[0m\u001b[37m\u001b[0m \u001b[1m0s\u001b[0m 34ms/step\n",
      "\u001b[1m1/1\u001b[0m \u001b[32m━━━━━━━━━━━━━━━━━━━━\u001b[0m\u001b[37m\u001b[0m \u001b[1m0s\u001b[0m 35ms/step\n",
      "\u001b[1m1/1\u001b[0m \u001b[32m━━━━━━━━━━━━━━━━━━━━\u001b[0m\u001b[37m\u001b[0m \u001b[1m0s\u001b[0m 38ms/step\n",
      "\u001b[1m1/1\u001b[0m \u001b[32m━━━━━━━━━━━━━━━━━━━━\u001b[0m\u001b[37m\u001b[0m \u001b[1m0s\u001b[0m 40ms/step\n",
      "\u001b[1m1/1\u001b[0m \u001b[32m━━━━━━━━━━━━━━━━━━━━\u001b[0m\u001b[37m\u001b[0m \u001b[1m0s\u001b[0m 45ms/step\n",
      "\u001b[1m1/1\u001b[0m \u001b[32m━━━━━━━━━━━━━━━━━━━━\u001b[0m\u001b[37m\u001b[0m \u001b[1m0s\u001b[0m 41ms/step\n",
      "\u001b[1m1/1\u001b[0m \u001b[32m━━━━━━━━━━━━━━━━━━━━\u001b[0m\u001b[37m\u001b[0m \u001b[1m0s\u001b[0m 40ms/step\n",
      "\u001b[1m1/1\u001b[0m \u001b[32m━━━━━━━━━━━━━━━━━━━━\u001b[0m\u001b[37m\u001b[0m \u001b[1m0s\u001b[0m 42ms/step\n",
      "\u001b[1m1/1\u001b[0m \u001b[32m━━━━━━━━━━━━━━━━━━━━\u001b[0m\u001b[37m\u001b[0m \u001b[1m0s\u001b[0m 40ms/step\n",
      "\u001b[1m1/1\u001b[0m \u001b[32m━━━━━━━━━━━━━━━━━━━━\u001b[0m\u001b[37m\u001b[0m \u001b[1m0s\u001b[0m 38ms/step\n",
      "\u001b[1m1/1\u001b[0m \u001b[32m━━━━━━━━━━━━━━━━━━━━\u001b[0m\u001b[37m\u001b[0m \u001b[1m0s\u001b[0m 40ms/step\n",
      "\u001b[1m1/1\u001b[0m \u001b[32m━━━━━━━━━━━━━━━━━━━━\u001b[0m\u001b[37m\u001b[0m \u001b[1m0s\u001b[0m 41ms/step\n",
      "\u001b[1m1/1\u001b[0m \u001b[32m━━━━━━━━━━━━━━━━━━━━\u001b[0m\u001b[37m\u001b[0m \u001b[1m0s\u001b[0m 39ms/step\n",
      "\u001b[1m1/1\u001b[0m \u001b[32m━━━━━━━━━━━━━━━━━━━━\u001b[0m\u001b[37m\u001b[0m \u001b[1m0s\u001b[0m 43ms/step\n",
      "         Date  Predicted Close\n",
      "0  2024-11-06       355.329956\n",
      "1  2024-11-07       332.110901\n",
      "2  2024-11-08       304.384338\n",
      "3  2024-11-09       277.894714\n",
      "4  2024-11-10       255.623077\n",
      "5  2024-11-11       239.047012\n",
      "6  2024-11-12       228.341568\n",
      "7  2024-11-13       222.803665\n",
      "8  2024-11-14       221.297028\n",
      "9  2024-11-15       222.540710\n",
      "10 2024-11-16       225.278046\n",
      "11 2024-11-17       228.401459\n",
      "12 2024-11-18       231.046463\n",
      "13 2024-11-19       232.635788\n",
      "14 2024-11-20       232.867538\n",
      "15 2024-11-21       231.668732\n",
      "16 2024-11-22       229.138840\n",
      "17 2024-11-23       225.496216\n",
      "18 2024-11-24       221.032333\n",
      "19 2024-11-25       216.070633\n",
      "20 2024-11-26       210.929886\n",
      "21 2024-11-27       205.892197\n",
      "22 2024-11-28       201.179977\n",
      "23 2024-11-29       196.943192\n",
      "24 2024-11-30       193.258270\n",
      "25 2024-12-01       190.136429\n",
      "26 2024-12-02       187.537689\n",
      "27 2024-12-03       185.387207\n",
      "28 2024-12-04       183.591141\n",
      "29 2024-12-05       182.050262\n"
     ]
    },
    {
     "data": {
      "image/png": "[encoded data removed]",
      "text/plain": [
       "<Figure size 1600x800 with 1 Axes>"
      ]
     },
     "metadata": {},
     "output_type": "display_data"
    }
   ],
   "source": [
    "import pandas as pd\n",
    "import numpy as np\n",
    "from sklearn.preprocessing import MinMaxScaler\n",
    "from tensorflow.keras.models import Sequential\n",
    "from tensorflow.keras.layers import LSTM, Dense\n",
    "from datetime import datetime, timedelta\n",
    "import pickle\n",
    "import matplotlib.pyplot as plt\n",
    "\n",
    "# Load your stock data\n",
    "# Assuming 'data' contains the stock data with 'Date' and 'Close' columns\n",
    "data_new = data.sort_index()\n",
    "data_new = data_new[['Close']]\n",
    "\n",
    "# Prepare data (80% train, 20% test split)\n",
    "train_size = int(len(data_new) * 0.8)\n",
    "train_data, test_data = data_new[:train_size], data_new[train_size:]\n",
    "\n",
    "# Normalize the data (using MinMaxScaler)\n",
    "scaler = MinMaxScaler()\n",
    "train_scaled = scaler.fit_transform(train_data)\n",
    "test_scaled = scaler.transform(test_data)\n",
    "\n",
    "# Prepare data for LSTM model (create sequences of 60 time steps)\n",
    "def create_lstm_data(data, time_steps=1):\n",
    "    X, y = [], []\n",
    "    for i in range(len(data) - time_steps):\n",
    "        X.append(data[i:(i + time_steps), 0])\n",
    "        y.append(data[i + time_steps, 0])\n",
    "    return np.array(X), np.array(y)\n",
    "\n",
    "time_steps = 60\n",
    "X_train_lstm, y_train_lstm = create_lstm_data(train_scaled, time_steps)\n",
    "X_test_lstm, y_test_lstm = create_lstm_data(test_scaled, time_steps)\n",
    "\n",
    "# Reshape data for LSTM (3D input format: [samples, time steps, features])\n",
    "X_train_lstm = X_train_lstm.reshape((X_train_lstm.shape[0], X_train_lstm.shape[1], 1))\n",
    "X_test_lstm = X_test_lstm.reshape((X_test_lstm.shape[0], X_test_lstm.shape[1], 1))\n",
    "\n",
    "# Define LSTM model\n",
    "lstm_model = Sequential([\n",
    "    LSTM(50, return_sequences=True, input_shape=(X_train_lstm.shape[1], 1)),\n",
    "    LSTM(50, return_sequences=False),\n",
    "    Dense(25),\n",
    "    Dense(1)\n",
    "])\n",
    "\n",
    "# Compile and fit the model\n",
    "lstm_model.compile(optimizer='adam', loss='mean_squared_error')\n",
    "lstm_model.fit(X_train_lstm, y_train_lstm, epochs=10, batch_size=32)\n",
    "\n",
    "# Predict and evaluate on test data\n",
    "y_pred_lstm = lstm_model.predict(X_test_lstm)\n",
    "y_pred_lstm = scaler.inverse_transform(y_pred_lstm)  # Inverse scaling\n",
    "print(\"LSTM model performance evaluation on test data:\")\n",
    "from sklearn.metrics import mean_absolute_error, mean_squared_error\n",
    "mae = mean_absolute_error(test_data[time_steps:], y_pred_lstm)\n",
    "mse = mean_squared_error(test_data[time_steps:], y_pred_lstm)\n",
    "rmse = np.sqrt(mse)\n",
    "print(f\"MAE: {mae}, MSE: {mse}, RMSE: {rmse}\")\n",
    "\n",
    "# Save the LSTM model and scaler as pickle files\n",
    "with open('lstm_model.pkl', 'wb') as f:\n",
    "    pickle.dump(lstm_model, f)\n",
    "    \n",
    "with open('scaler.pkl', 'wb') as f:\n",
    "    pickle.dump(scaler, f)\n",
    "\n",
    "# Predict the next 30 days stock prices\n",
    "# Use the last 60 days from the training data to predict the next 30 days\n",
    "last_60_days = data_new[-60:].values\n",
    "last_60_days_scaled = scaler.transform(last_60_days)\n",
    "\n",
    "X_input = last_60_days_scaled.reshape((1, last_60_days_scaled.shape[0], 1))\n",
    "\n",
    "predictions = []\n",
    "for i in range(30):  # Predict the next 30 days\n",
    "    pred = lstm_model.predict(X_input)\n",
    "    predictions.append(pred[0][0])\n",
    "    X_input = np.append(X_input[:, 1:, :], pred.reshape(1, 1, 1), axis=1)\n",
    "\n",
    "# Inverse scaling to get actual stock prices\n",
    "predictions = scaler.inverse_transform(np.array(predictions).reshape(-1, 1))\n",
    "\n",
    "# Prepare the dates for prediction\n",
    "last_date = data_new.index[-1]\n",
    "dates = [last_date + timedelta(days=i) for i in range(1, 31)]\n",
    "\n",
    "# Create a dataframe for predictions\n",
    "predicted_df = pd.DataFrame({'Date': dates, 'Predicted Close': predictions.flatten()})\n",
    "\n",
    "# Display predictions\n",
    "print(predicted_df)\n",
    "\n",
    "# Plot the predictions\n",
    "plt.plot(dates, predictions)\n",
    "plt.title('Stock Price Prediction for Next 30 Days')\n",
    "plt.xlabel('Date')\n",
    "plt.ylabel('Predicted Close Price')\n",
    "plt.xticks(rotation=45)\n",
    "plt.show()\n",
    "\n",
    "# Download the pickle files for model and scaler (for use in deployment)\n",
    "# You can download these files after running the code, or if running in a web environment, offer them for download\n"
   ]
  },
  {
   "cell_type": "code",
   "execution_count": null,
   "id": "bef8b1d2-a023-49ba-9e97-a919501b9154",
   "metadata": {},
   "outputs": [],
   "source": []
  }
 ],
 "metadata": {
  "colab": {
   "provenance": []
  },
  "kernelspec": {
   "display_name": "Python 3 (ipykernel)",
   "language": "python",
   "name": "python3"
  },
  "language_info": {
   "codemirror_mode": {
    "name": "ipython",
    "version": 3
   },
   "file_extension": ".py",
   "mimetype": "text/x-python",
   "name": "python",
   "nbconvert_exporter": "python",
   "pygments_lexer": "ipython3",
   "version": "3.11.7"
  }
 },
 "nbformat": 4,
 "nbformat_minor": 5
}
